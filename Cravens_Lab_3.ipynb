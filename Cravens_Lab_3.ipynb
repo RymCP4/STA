{
  "nbformat": 4,
  "nbformat_minor": 0,
  "metadata": {
    "colab": {
      "provenance": [],
      "authorship_tag": "ABX9TyNoev7TdjN3+hSy6IbTBEOv",
      "include_colab_link": true
    },
    "kernelspec": {
      "name": "python3",
      "display_name": "Python 3"
    },
    "language_info": {
      "name": "python"
    }
  },
  "cells": [
    {
      "cell_type": "markdown",
      "metadata": {
        "id": "view-in-github",
        "colab_type": "text"
      },
      "source": [
        "<a href=\"https://colab.research.google.com/github/RymCP4/STA/blob/main/Cravens_Lab_3.ipynb\" target=\"_parent\"><img src=\"https://colab.research.google.com/assets/colab-badge.svg\" alt=\"Open In Colab\"/></a>"
      ]
    },
    {
      "cell_type": "code",
      "execution_count": null,
      "metadata": {
        "id": "jM88zwqR-Jgv"
      },
      "outputs": [],
      "source": [
        "import numpy as np"
      ]
    },
    {
      "cell_type": "code",
      "source": [
        "for i in range(10):\n",
        "  print(i)"
      ],
      "metadata": {
        "colab": {
          "base_uri": "https://localhost:8080/"
        },
        "id": "GO7DuSdV-bxf",
        "outputId": "eb59c0ab-7d9b-4744-d94b-5ec7ca4d9cdb"
      },
      "execution_count": null,
      "outputs": [
        {
          "output_type": "stream",
          "name": "stdout",
          "text": [
            "0\n",
            "1\n",
            "2\n",
            "3\n",
            "4\n",
            "5\n",
            "6\n",
            "7\n",
            "8\n",
            "9\n"
          ]
        }
      ]
    },
    {
      "cell_type": "code",
      "source": [
        "for i in range(5,8): #the comma is basically \"to\" but excludes the last number listed. in this example, it is 5 to 7\n",
        "  print(i)"
      ],
      "metadata": {
        "colab": {
          "base_uri": "https://localhost:8080/"
        },
        "id": "gaGWs6Eb-fn_",
        "outputId": "07b1e8a6-0d7c-41c3-972b-255d6f2bbd70"
      },
      "execution_count": null,
      "outputs": [
        {
          "output_type": "stream",
          "name": "stdout",
          "text": [
            "5\n",
            "6\n",
            "7\n"
          ]
        }
      ]
    },
    {
      "cell_type": "code",
      "source": [
        "for i in range(3):\n",
        "  print(\"Test Number:\",i)"
      ],
      "metadata": {
        "colab": {
          "base_uri": "https://localhost:8080/"
        },
        "id": "VeeDhtlB-lJP",
        "outputId": "d6a60ccc-5843-47c0-e9a8-047675327304"
      },
      "execution_count": null,
      "outputs": [
        {
          "output_type": "stream",
          "name": "stdout",
          "text": [
            "Test Number: 0\n",
            "Test Number: 1\n",
            "Test Number: 2\n"
          ]
        }
      ]
    },
    {
      "cell_type": "code",
      "source": [
        "def square(x):\n",
        "  return x**2"
      ],
      "metadata": {
        "id": "2kCWliyF_Gq_"
      },
      "execution_count": null,
      "outputs": []
    },
    {
      "cell_type": "code",
      "source": [
        "square(3)"
      ],
      "metadata": {
        "colab": {
          "base_uri": "https://localhost:8080/"
        },
        "id": "FpS__lZF_lFP",
        "outputId": "4bbded28-54e8-4f4a-f0af-03e8d5a26df4"
      },
      "execution_count": null,
      "outputs": [
        {
          "output_type": "execute_result",
          "data": {
            "text/plain": [
              "9"
            ]
          },
          "metadata": {},
          "execution_count": 186
        }
      ]
    },
    {
      "cell_type": "code",
      "source": [
        "square(square(5))"
      ],
      "metadata": {
        "colab": {
          "base_uri": "https://localhost:8080/"
        },
        "id": "le12g54H_mQP",
        "outputId": "a3323a47-47e3-44d2-9ea7-73fde0fdeac7"
      },
      "execution_count": null,
      "outputs": [
        {
          "output_type": "execute_result",
          "data": {
            "text/plain": [
              "625"
            ]
          },
          "metadata": {},
          "execution_count": 187
        }
      ]
    },
    {
      "cell_type": "code",
      "source": [
        "def div_30(x):\n",
        "  return x/30"
      ],
      "metadata": {
        "id": "OrkIF3Cb_5hP"
      },
      "execution_count": null,
      "outputs": []
    },
    {
      "cell_type": "code",
      "source": [
        "div_30(90)"
      ],
      "metadata": {
        "colab": {
          "base_uri": "https://localhost:8080/"
        },
        "id": "AD3sUM3nALBw",
        "outputId": "0f24509d-541c-4b7a-c648-8e5b09b508ab"
      },
      "execution_count": null,
      "outputs": [
        {
          "output_type": "execute_result",
          "data": {
            "text/plain": [
              "3.0"
            ]
          },
          "metadata": {},
          "execution_count": 189
        }
      ]
    },
    {
      "cell_type": "code",
      "source": [
        "choice=\"orange\""
      ],
      "metadata": {
        "id": "ztXf4bcyCCu7"
      },
      "execution_count": null,
      "outputs": []
    },
    {
      "cell_type": "code",
      "source": [
        "choice=\"apple\""
      ],
      "metadata": {
        "id": "l3b9MNdgANAg"
      },
      "execution_count": null,
      "outputs": []
    },
    {
      "cell_type": "code",
      "source": [
        "if choice==\"apple\":\n",
        "  print(\"You choose apples.\")\n",
        "  print(\"Thank you for shopping!\")\n",
        "else:\n",
        "  print(\"You did not choose apples.\")\n",
        "  print(\"Thank you for shopping!\")"
      ],
      "metadata": {
        "colab": {
          "base_uri": "https://localhost:8080/"
        },
        "id": "bQVqm2G7AjQw",
        "outputId": "1d9a23b4-1d31-47ed-febd-f8044177c358"
      },
      "execution_count": null,
      "outputs": [
        {
          "output_type": "stream",
          "name": "stdout",
          "text": [
            "You choose apples.\n",
            "Thank you for shopping!\n"
          ]
        }
      ]
    },
    {
      "cell_type": "code",
      "source": [
        "if choice==\"apple\":\n",
        "  print(\"You choose apples.\")\n",
        "elif choice==\"orange\":\n",
        "  print(\"You choose oranges.\")\n",
        "else:\n",
        "  print(\"You did not choose either.\")"
      ],
      "metadata": {
        "colab": {
          "base_uri": "https://localhost:8080/"
        },
        "id": "-tk30Og5As0A",
        "outputId": "c006bf24-66ce-404d-880b-10a25cad71a2"
      },
      "execution_count": null,
      "outputs": [
        {
          "output_type": "stream",
          "name": "stdout",
          "text": [
            "You choose apples.\n"
          ]
        }
      ]
    },
    {
      "cell_type": "code",
      "source": [
        "choice=input(\"Please enter your choice of fruit:\")"
      ],
      "metadata": {
        "colab": {
          "base_uri": "https://localhost:8080/"
        },
        "id": "FtPp2BXtAvkw",
        "outputId": "35f45ba8-c6ea-4689-8773-7bd03c493d0e"
      },
      "execution_count": null,
      "outputs": [
        {
          "name": "stdout",
          "output_type": "stream",
          "text": [
            "Please enter your choice of fruit:apple\n"
          ]
        }
      ]
    },
    {
      "cell_type": "code",
      "source": [
        "choice\n",
        "if choice==\"apple\":\n",
        "  print(\"You choose apples.\")\n",
        "elif choice==\"orange\":\n",
        "  print(\"You choose oranges.\")\n",
        "else:\n",
        "  print(\"You did not choose either.\")"
      ],
      "metadata": {
        "colab": {
          "base_uri": "https://localhost:8080/"
        },
        "id": "v2C7917MCYoy",
        "outputId": "61907cad-cf32-49b5-c7c4-f3144afd3de5"
      },
      "execution_count": null,
      "outputs": [
        {
          "output_type": "stream",
          "name": "stdout",
          "text": [
            "You choose apples.\n"
          ]
        }
      ]
    },
    {
      "cell_type": "code",
      "source": [
        "choice=input(\"Please enter your choice of fruit:\")\n",
        "choice\n",
        "if choice==\"apple\":\n",
        "  print(\"You choose apples.\")\n",
        "elif choice==\"orange\":\n",
        "  print(\"You choose oranges.\")\n",
        "else:\n",
        "  print(\"You did not choose either.\")"
      ],
      "metadata": {
        "id": "bHzXeNz0ClDS"
      },
      "execution_count": null,
      "outputs": []
    },
    {
      "cell_type": "code",
      "source": [
        "np.random.permutation(52)"
      ],
      "metadata": {
        "id": "FRGB5T5iCtXc"
      },
      "execution_count": null,
      "outputs": []
    },
    {
      "cell_type": "code",
      "source": [
        "cards=np.random.permutation(52)"
      ],
      "metadata": {
        "id": "yfBZk6HCDBFB"
      },
      "execution_count": null,
      "outputs": []
    },
    {
      "cell_type": "code",
      "source": [
        "cards"
      ],
      "metadata": {
        "id": "whw0dSX0Dt6C"
      },
      "execution_count": null,
      "outputs": []
    },
    {
      "cell_type": "markdown",
      "source": [
        "<img src='http://milefoot.com/math/discrete/counting/images/cards.png'>"
      ],
      "metadata": {
        "id": "X-AWNz19FIBv"
      }
    },
    {
      "cell_type": "code",
      "source": [
        "np.arange(52).reshape(4,13)//13"
      ],
      "metadata": {
        "id": "jz4EpVWTEc_M"
      },
      "execution_count": null,
      "outputs": []
    },
    {
      "cell_type": "code",
      "source": [
        "suits=['Clubs','Spades','Hearts','Diamonds']\n",
        "names=['Ace','Two','Three','Four','Five','Six','Seven','Eight','Nine','Ten','Jack','Queen','King']"
      ],
      "metadata": {
        "id": "Kny8HNzwFaQu"
      },
      "execution_count": null,
      "outputs": []
    },
    {
      "cell_type": "code",
      "source": [
        "suits[3]"
      ],
      "metadata": {
        "id": "UNMh_t_3F-nI"
      },
      "execution_count": null,
      "outputs": []
    },
    {
      "cell_type": "code",
      "source": [
        "def card_name(card_number):\n",
        "  suit=card_number//13\n",
        "  name=card_number%13\n",
        "  return names[name]+\" of \"+suits[suit]"
      ],
      "metadata": {
        "id": "iqqRpM6fGJLY"
      },
      "execution_count": null,
      "outputs": []
    },
    {
      "cell_type": "code",
      "source": [
        "card_name(48)"
      ],
      "metadata": {
        "id": "7g_u0QvvGUrI"
      },
      "execution_count": null,
      "outputs": []
    },
    {
      "cell_type": "code",
      "source": [
        "cards=np.random.permutation(52)"
      ],
      "metadata": {
        "id": "l5U6VRwkGwL5"
      },
      "execution_count": null,
      "outputs": []
    },
    {
      "cell_type": "code",
      "source": [
        "top_of_deck         =card_name(cards[0])\n",
        "second_card_in_deck =card_name(cards[1])\n",
        "bottom_of_deck      =card_name(cards[-1])"
      ],
      "metadata": {
        "id": "Y9jvQ8RdH2hJ"
      },
      "execution_count": null,
      "outputs": []
    },
    {
      "cell_type": "code",
      "source": [
        "cards"
      ],
      "metadata": {
        "id": "Y6Gi8U40IW48"
      },
      "execution_count": null,
      "outputs": []
    },
    {
      "cell_type": "code",
      "source": [
        "top_of_deck,second_card_in_deck,bottom_of_deck"
      ],
      "metadata": {
        "id": "zBOVlekaH7EJ"
      },
      "execution_count": null,
      "outputs": []
    },
    {
      "cell_type": "code",
      "source": [
        "for i in range(5):\n",
        "  print(card_name(cards[i]))"
      ],
      "metadata": {
        "id": "iq34poN2IdCa"
      },
      "execution_count": null,
      "outputs": []
    },
    {
      "cell_type": "code",
      "source": [
        "cards=np.random.permutation(52)\n",
        "cards\n",
        "for i in range(5):\n",
        "  print(card_name(cards[i]))"
      ],
      "metadata": {
        "id": "IOpUi7NNIgo4"
      },
      "execution_count": null,
      "outputs": []
    },
    {
      "cell_type": "code",
      "source": [
        "card_url_head=\"https://www.improvemagic.com/wp-content/uploads/2020/11/\"\n",
        "card_url_tail=\".png\""
      ],
      "metadata": {
        "id": "rQZQOFRFJaNd"
      },
      "execution_count": null,
      "outputs": []
    },
    {
      "cell_type": "code",
      "source": [
        "suit=['k','p','s','l']\n",
        "card=['a','2','3','4','5','6','7','8','9','10','j','q','k']"
      ],
      "metadata": {
        "id": "Jz-NJR5HJnBN"
      },
      "execution_count": null,
      "outputs": []
    },
    {
      "cell_type": "code",
      "source": [
        "i=np.random.randint(4)\n",
        "j=np.random.randint(13)"
      ],
      "metadata": {
        "id": "I8cBEB-zJ3wN"
      },
      "execution_count": null,
      "outputs": []
    },
    {
      "cell_type": "code",
      "source": [
        "i,j"
      ],
      "metadata": {
        "id": "Sg-UKcn0J_CN"
      },
      "execution_count": null,
      "outputs": []
    },
    {
      "cell_type": "code",
      "source": [
        "from IPython.core.display import display,HTML"
      ],
      "metadata": {
        "id": "nTPwrw2IKR5t"
      },
      "execution_count": null,
      "outputs": []
    },
    {
      "cell_type": "code",
      "source": [
        "def show_img(img):\n",
        "  display(HTML('<img src=' + img + '>'))"
      ],
      "metadata": {
        "id": "m-YPFYlCLK2-"
      },
      "execution_count": null,
      "outputs": []
    },
    {
      "cell_type": "code",
      "source": [
        "img=card_url_head+suit[i]+card[j]+card_url_tail"
      ],
      "metadata": {
        "id": "EPU9LI_lLWev"
      },
      "execution_count": null,
      "outputs": []
    },
    {
      "cell_type": "code",
      "source": [
        "show_img(img)"
      ],
      "metadata": {
        "id": "n6qvtyqlLhIu"
      },
      "execution_count": null,
      "outputs": []
    },
    {
      "cell_type": "code",
      "source": [],
      "metadata": {
        "id": "47MwjCs8MBAK"
      },
      "execution_count": null,
      "outputs": []
    }
  ]
}